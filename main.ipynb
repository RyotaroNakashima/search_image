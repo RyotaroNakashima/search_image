{
 "cells": [
  {
   "cell_type": "markdown",
   "metadata": {},
   "source": [
    "# 自然言語から画像を検索するプログラム"
   ]
  },
  {
   "cell_type": "code",
   "execution_count": null,
   "metadata": {},
   "outputs": [],
   "source": [
    "import os\n",
    "import torch\n",
    "# import clip\n",
    "import japanese_clip as ja_clip\n",
    "from PIL import Image\n",
    "import numpy as np\n",
    "from tqdm import tqdm\n",
    "import matplotlib.pyplot as plt\n",
    "from torchvision import transforms\n"
   ]
  },
  {
   "cell_type": "markdown",
   "metadata": {},
   "source": [
    "## モデルの定義"
   ]
  },
  {
   "cell_type": "code",
   "execution_count": null,
   "metadata": {},
   "outputs": [],
   "source": [
    "# デバイスの設定（GPUまたはCPU）\n",
    "device = \"cuda\" if torch.cuda.is_available() else \"cpu\"\n",
    "\n",
    "# Japanese CLIPモデルと前処理関数の読み込み\n",
    "model, _ = ja_clip.load('rinna/japanese-clip-vit-b-16', device=device)"
   ]
  },
  {
   "cell_type": "markdown",
   "metadata": {},
   "source": [
    "## 画像の前処理クラスの定義"
   ]
  },
  {
   "cell_type": "code",
   "execution_count": null,
   "metadata": {},
   "outputs": [],
   "source": [
    "mean = [0.48145466, 0.4578275, 0.40821073]\n",
    "std = [0.26862954, 0.26130258, 0.27577711]\n",
    "\n",
    "## 画像の前処理クラス\n",
    "class LetterboxTransform:\n",
    "    def __init__(self, size=(224,224), fill_color=(0,0,0)):\n",
    "        self.size = size\n",
    "        self.fill_color = fill_color\n",
    "\n",
    "    def __call__(self, img: Image.Image):\n",
    "        w, h = img.size\n",
    "        scale = min(self.size[0]/h, self.size[1]/w)\n",
    "        new_w = int(w * scale)\n",
    "        new_h = int(h * scale)\n",
    "\n",
    "        # リサイズ（アスペクト比保持）\n",
    "        resized = img.resize((new_w, new_h), Image.BILINEAR)\n",
    "\n",
    "        # 新しい224x224の黒背景キャンバスを作る\n",
    "        new_img = Image.new(\"RGB\", self.size, self.fill_color)\n",
    "        top = (self.size[1] - new_h)//2\n",
    "        left = (self.size[0] - new_w)//2\n",
    "        new_img.paste(resized, (left, top))\n",
    "        return new_img\n",
    "\n",
    "# 新たな前処理パイプラインを定義\n",
    "# 1. アスペクト比維持でLetterboxで224x224へ\n",
    "# 2. ToTensor()でTensor化\n",
    "# 3. CLIP標準化(mean/std)\n",
    "preprocess = transforms.Compose([\n",
    "    LetterboxTransform(size=(224,224), fill_color=(0,0,0)),\n",
    "    transforms.ToTensor(),\n",
    "    transforms.Normalize(mean=mean, std=std)\n",
    "])"
   ]
  },
  {
   "cell_type": "markdown",
   "metadata": {},
   "source": [
    "## 撮影画像をベクトル化する処理"
   ]
  },
  {
   "cell_type": "code",
   "execution_count": null,
   "metadata": {},
   "outputs": [],
   "source": [
    "# 画像フォルダのパスを指定\n",
    "image_folder = \"/Users/nakashimaryotaro/Desktop/自己学習/AI画像検索_簡易版/myfolder\"\n",
    "\n",
    "# 画像ファイルのパスを取得\n",
    "image_paths = [\n",
    "    os.path.join(image_folder, fname)\n",
    "    for fname in os.listdir(image_folder)\n",
    "    if fname.endswith(('.jpg', '.JPG', '.jpeg', '.png', '.PNG'))\n",
    "]\n",
    "\n",
    "# 画像のベクトル表現とファイルパスを格納するリスト\n",
    "image_embeddings = []\n",
    "image_files = []\n",
    "\n",
    "# 各画像をベクトル化\n",
    "for image_path in tqdm(image_paths, desc=\"画像の処理中\"):\n",
    "    try:\n",
    "        # 画像を開き、前処理を適用\n",
    "        image = preprocess(Image.open(image_path)).unsqueeze(0).to(device)\n",
    "        with torch.no_grad():\n",
    "            # 画像をベクトル表現にエンコード\n",
    "            image_embedding = model.get_image_features(image)\n",
    "        # ベクトルを正規化\n",
    "        image_embedding /= image_embedding.norm(dim=-1, keepdim=True)\n",
    "        # 次元を統一してリストに追加\n",
    "        image_embeddings.append(image_embedding.cpu().numpy().squeeze(0))\n",
    "        image_files.append(image_path)\n",
    "    except Exception as e:\n",
    "        print(f\"{image_path} の処理中にエラー: {e}\")\n",
    "\n",
    "# ベクトルを結合\n",
    "if len(image_embeddings) == 0:\n",
    "    raise ValueError(\"image_embeddingsが空です。画像フォルダのパスを確認してください。\")\n",
    "image_embeddings = np.stack(image_embeddings, axis=0)\n"
   ]
  },
  {
   "cell_type": "markdown",
   "metadata": {},
   "source": [
    "## クエリ（検索文字列）をベクトル化し、ベクトル化した画像から類似したものを探す関数の定義"
   ]
  },
  {
   "cell_type": "code",
   "execution_count": null,
   "metadata": {},
   "outputs": [],
   "source": [
    "# PyTorchのTensorに変換\n",
    "embedding_dim = 512  # 埋め込み次元（モデルに依存）\n",
    "image_embeddings = torch.tensor(image_embeddings, device=device).view(-1, embedding_dim)\n",
    "\n",
    "# 検索関数\n",
    "def search(query, image_embeddings, image_files, top_k=5):\n",
    "    with torch.no_grad():\n",
    "        # クエリをベクトル化\n",
    "        tokens = ja_clip.tokenize(query)\n",
    "        input_ids = tokens['input_ids'].to(device)\n",
    "        attention_mask = tokens['attention_mask'].to(device)\n",
    "\n",
    "        # テキストをベクトル化\n",
    "        text_embedding = model.get_text_features(input_ids=input_ids, attention_mask=attention_mask)\n",
    "\n",
    "        # 検索スコア計算\n",
    "        scores = torch.matmul(text_embedding, image_embeddings.T)\n",
    "\n",
    "        # スコア上位を取得\n",
    "        top_scores, indices = torch.topk(scores, top_k)\n",
    "\n",
    "        # indicesとtop_scoresは[1, top_k]の形状になっているので0行目を参照\n",
    "        indices = indices[0]       # (top_k,) 形状\n",
    "        top_scores = top_scores[0] # (top_k,) 形状\n",
    "\n",
    "        # enumerateを使って各順位j（0～top_k-1）とインデックスidxを取得\n",
    "        results = []\n",
    "        for j, idx in enumerate(indices):\n",
    "            img_idx = idx.item()\n",
    "            score = top_scores[j].item()\n",
    "            results.append((image_files[img_idx], score))\n",
    "\n",
    "        return results\n"
   ]
  },
  {
   "cell_type": "markdown",
   "metadata": {},
   "source": [
    "## 検索の実行・画像の可視化"
   ]
  },
  {
   "cell_type": "code",
   "execution_count": null,
   "metadata": {},
   "outputs": [],
   "source": [
    "# 検索クエリ\n",
    "# query = \"ガラスに囲われている神社\"\n",
    "# query = \"寺\"\n",
    "# query = \"つけ麺。皿が２つある\"\n",
    "query = \"スキー場で、ピースしてる男\"\n",
    "\n",
    "# 検索実行\n",
    "results = search(query, image_embeddings, image_files, top_k=4)\n",
    "\n",
    "# 検索結果を表示\n",
    "for img_path, score in results:\n",
    "    img = Image.open(img_path)\n",
    "    plt.imshow(img)\n",
    "    plt.title(f\"score: {score:.4f}\")\n",
    "    plt.axis('off')\n",
    "    plt.show()"
   ]
  },
  {
   "cell_type": "markdown",
   "metadata": {},
   "source": [
    "## モデルの注目箇所を可視化する処理"
   ]
  },
  {
   "cell_type": "code",
   "execution_count": null,
   "metadata": {},
   "outputs": [],
   "source": [
    "# アテンション可視化のための画像選択（上位1件を例に）\n",
    "img_path = results[1][0]\n",
    "image = Image.open(img_path)\n",
    "image_input = preprocess(image).unsqueeze(0).to(device)\n",
    "\n",
    "# アテンション取得\n",
    "model.vision_model.config.output_attentions = True\n",
    "with torch.no_grad():\n",
    "    outputs = model.vision_model(image_input, output_attentions=True)\n",
    "\n",
    "attentions = outputs.attentions\n",
    "last_layer_attention = attentions[-1]\n",
    "avg_attention = last_layer_attention.mean(dim=1)  # [batch, tokens, tokens]\n",
    "\n",
    "# CLSトークンから他トークンへのAttention\n",
    "cls_attention = avg_attention[0, 0, 1:]\n",
    "num_patches = cls_attention.shape[0]\n",
    "patch_size = int(num_patches**0.5)\n",
    "cls_attention = cls_attention.reshape(patch_size, patch_size).cpu().numpy()\n",
    "\n",
    "# Attention正規化\n",
    "cls_attention = cls_attention - cls_attention.min()\n",
    "cls_attention = cls_attention / cls_attention.max()\n",
    "\n",
    "# preprocessで行われている正規化を逆変換\n",
    "# 参考: CLIP標準化パラメータ（モデルにより異なるため適宜変更）\n",
    "mean = [0.48145466, 0.4578275, 0.40821073]\n",
    "std = [0.26862954, 0.26130258, 0.27577711]\n",
    "\n",
    "# preprocess後の画像をnumpy化\n",
    "input_image_np = image_input.squeeze(0).permute(1, 2, 0).cpu().numpy()\n",
    "\n",
    "# 標準化解除\n",
    "inv_image = input_image_np\n",
    "for c in range(3):\n",
    "    inv_image[..., c] = inv_image[..., c] * std[c] + mean[c]\n",
    "inv_image = np.clip(inv_image, 0, 1)\n",
    "inv_image_uint8 = (inv_image * 255).astype(np.uint8)\n",
    "\n",
    "# Attentionマップを224x224に拡大\n",
    "attention_resized = Image.fromarray((cls_attention*255).astype(np.uint8)).resize((224, 224), Image.BILINEAR)\n",
    "attention_resized = np.array(attention_resized)\n",
    "\n",
    "# 可視化\n",
    "plt.figure(figsize=(10,10))\n",
    "plt.imshow(inv_image_uint8)\n",
    "plt.imshow(attention_resized, cmap='jet', alpha=0.4)\n",
    "plt.axis('off')\n",
    "plt.title(\"Model Attention Map (On Preprocessed Image, Normalized Back)\")\n",
    "plt.show()"
   ]
  }
 ],
 "metadata": {
  "kernelspec": {
   "display_name": "base",
   "language": "python",
   "name": "python3"
  },
  "language_info": {
   "codemirror_mode": {
    "name": "ipython",
    "version": 3
   },
   "file_extension": ".py",
   "mimetype": "text/x-python",
   "name": "python",
   "nbconvert_exporter": "python",
   "pygments_lexer": "ipython3",
   "version": "3.12.4"
  }
 },
 "nbformat": 4,
 "nbformat_minor": 2
}
